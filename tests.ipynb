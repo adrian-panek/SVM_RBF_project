{
 "cells": [
  {
   "cell_type": "code",
   "execution_count": 171,
   "id": "ab84c45d",
   "metadata": {},
   "outputs": [],
   "source": [
    "import numpy as np\n",
    "import pandas as pd\n",
    "import cvxopt\n",
    "\n",
    "from sklearn.tree import DecisionTreeClassifier\n",
    "from sklearn.metrics import accuracy_score\n",
    "from sklearn.datasets import make_classification\n",
    "from scipy.spatial.distance import cdist"
   ]
  },
  {
   "cell_type": "code",
   "execution_count": 172,
   "id": "cce0c8df",
   "metadata": {},
   "outputs": [],
   "source": [
    "dataset = pd.read_csv('dataset/Cancer_Data.csv', sep=',')"
   ]
  },
  {
   "cell_type": "code",
   "execution_count": 173,
   "id": "fe462608",
   "metadata": {},
   "outputs": [],
   "source": [
    "X = np.zeros((len(dataset['radius_mean'].values), 2))"
   ]
  },
  {
   "cell_type": "code",
   "execution_count": 174,
   "id": "23a06e0f",
   "metadata": {},
   "outputs": [],
   "source": [
    "X[:,0] = dataset['radius_mean'].values"
   ]
  },
  {
   "cell_type": "code",
   "execution_count": 175,
   "id": "9476885e",
   "metadata": {},
   "outputs": [],
   "source": [
    "X[:,1] = dataset['texture_mean'].values"
   ]
  },
  {
   "cell_type": "code",
   "execution_count": 176,
   "id": "ac31cdf8",
   "metadata": {},
   "outputs": [],
   "source": [
    "y = np.where(dataset['diagnosis'].values == 'M', -1, 1)"
   ]
  },
  {
   "cell_type": "code",
   "execution_count": 177,
   "id": "5063ee23",
   "metadata": {},
   "outputs": [],
   "source": [
    "def RBF(X, gamma):\n",
    "    dist_cdist = cdist(X, X, 'euclidean')\n",
    "    K = np.exp(-gamma*(dist_cdist)**2)\n",
    "    return K"
   ]
  },
  {
   "cell_type": "code",
   "execution_count": 181,
   "id": "5c8183c1",
   "metadata": {},
   "outputs": [],
   "source": [
    "class SVM(object):\n",
    "\n",
    "    def __init__(self, kernel=RBF, C=None):\n",
    "        self.kernel = kernel\n",
    "        self.C = C\n",
    "        if self.C is not None: self.C = float(self.C)\n",
    "\n",
    "    def fit(self, X, y):\n",
    "        n_samples, n_features = X.shape\n",
    "\n",
    "    \n",
    "        K = self.kernel(X, 1.0)\n",
    "\n",
    "        P = cvxopt.matrix(np.outer(y,y) * K)\n",
    "        q = cvxopt.matrix(np.ones(n_samples) * -1)\n",
    "        A = cvxopt.matrix(y, (1,n_samples)) * 1.0\n",
    "        b = cvxopt.matrix(0.0)\n",
    "\n",
    "        if self.C is None:\n",
    "            G = cvxopt.matrix(np.diag(np.ones(n_samples) * -1))\n",
    "            h = cvxopt.matrix(np.zeros(n_samples))\n",
    "        else:\n",
    "            tmp1 = np.diag(np.ones(n_samples) * -1)\n",
    "            tmp2 = np.identity(n_samples)\n",
    "            G = cvxopt.matrix(np.vstack((tmp1, tmp2)))\n",
    "            tmp1 = np.zeros(n_samples)\n",
    "            tmp2 = np.ones(n_samples) * self.C\n",
    "            h = cvxopt.matrix(np.hstack((tmp1, tmp2)))\n",
    "\n",
    "        solution = cvxopt.solvers.qp(P, q, G, h, A, b)\n",
    "\n",
    "        a = np.ravel(solution['x'])\n",
    "\n",
    "        sv = a > 1e-5\n",
    "        ind = np.arange(len(a))[sv]\n",
    "        self.a = a[sv]\n",
    "        self.sv = X[sv]\n",
    "        self.sv_y = y[sv]\n",
    "        print(\"%d support vectors out of %d points\" % (len(self.a), n_samples))\n",
    "        \n",
    "         # Intercept\n",
    "        self.b = 0\n",
    "        for n in range(len(self.a)):\n",
    "            self.b += self.sv_y[n]\n",
    "            self.b -= np.sum(self.a * self.sv_y * K[ind[n],sv])\n",
    "        self.b /= len(self.a)\n",
    "\n",
    "        # Weight vector\n",
    "        self.w = None\n",
    "\n",
    "    def project(self, X):\n",
    "        if self.w is not None:\n",
    "            return np.dot(X, self.w) + self.b\n",
    "        else:\n",
    "            y_predict = np.zeros(len(X))\n",
    "            for i in range(len(X)):\n",
    "                s = 0\n",
    "                for a, sv_y, sv in zip(self.a, self.sv_y, self.sv):\n",
    "                    s += a * sv_y * self.kernel((X[i], sv), 1.0)\n",
    "                y_predict[i] = s[0][0]\n",
    "            return y_predict + self.b\n",
    "\n",
    "    def predict(self, X):\n",
    "        return np.sign(self.project(X))"
   ]
  },
  {
   "cell_type": "code",
   "execution_count": 182,
   "id": "c9d89d67",
   "metadata": {},
   "outputs": [
    {
     "name": "stdout",
     "output_type": "stream",
     "text": [
      "     pcost       dcost       gap    pres   dres\n",
      " 0: -1.6013e+02 -5.4550e+02  2e+03  2e+01  3e+00\n",
      " 1: -4.3924e+02 -1.0327e+03  1e+03  1e+01  2e+00\n",
      " 2: -9.4759e+02 -1.6203e+03  1e+03  1e+01  1e+00\n",
      " 3: -2.1908e+03 -3.0615e+03  1e+03  1e+01  1e+00\n",
      " 4: -4.8343e+03 -5.9963e+03  2e+03  1e+01  1e+00\n",
      " 5: -9.3362e+03 -1.0971e+04  2e+03  9e+00  1e+00\n",
      " 6: -2.1115e+04 -2.3803e+04  3e+03  9e+00  1e+00\n",
      " 7: -3.8586e+04 -4.3212e+04  5e+03  9e+00  1e+00\n",
      " 8: -6.9148e+04 -7.9149e+04  1e+04  9e+00  1e+00\n",
      " 9: -1.5020e+05 -1.8393e+05  3e+04  8e+00  9e-01\n",
      "10: -2.3112e+05 -2.8695e+05  6e+04  5e+00  5e-01\n",
      "11: -2.7058e+05 -2.8330e+05  1e+04  7e-02  8e-03\n",
      "12: -2.7213e+05 -2.7337e+05  1e+03  7e-03  8e-04\n",
      "13: -2.7232e+05 -2.7242e+05  1e+02  4e-04  5e-05\n",
      "14: -2.7234e+05 -2.7236e+05  2e+01  4e-06  4e-07\n",
      "15: -2.7235e+05 -2.7235e+05  2e+00  3e-07  4e-08\n",
      "16: -2.7235e+05 -2.7235e+05  3e-01  5e-08  5e-09\n",
      "17: -2.7235e+05 -2.7235e+05  3e-02  1e-09  1e-10\n",
      "Optimal solution found.\n",
      "353 support vectors out of 569 points\n",
      "[1. 1. 1. 1. 1. 1. 1. 1. 1. 1. 1. 1. 1. 1. 1. 1. 1. 1. 1. 1. 1. 1. 1. 1.\n",
      " 1. 1. 1. 1. 1. 1. 1. 1. 1. 1. 1. 1. 1. 1. 1. 1. 1. 1. 1. 1. 1. 1. 1. 1.\n",
      " 1. 1. 1. 1. 1. 1. 1. 1. 1. 1. 1. 1. 1. 1. 1. 1. 1. 1. 1. 1. 1. 1. 1. 1.\n",
      " 1. 1. 1. 1. 1. 1. 1. 1. 1. 1. 1. 1. 1. 1. 1. 1. 1. 1. 1. 1. 1. 1. 1. 1.\n",
      " 1. 1. 1. 1. 1. 1. 1. 1. 1. 1. 1. 1. 1. 1. 1. 1. 1. 1. 1. 1. 1. 1. 1. 1.\n",
      " 1. 1. 1. 1. 1. 1. 1. 1. 1. 1. 1. 1. 1. 1. 1. 1. 1. 1. 1. 1. 1. 1. 1. 1.\n",
      " 1. 1. 1. 1. 1. 1. 1. 1. 1. 1. 1. 1. 1. 1. 1. 1. 1. 1. 1. 1. 1. 1. 1. 1.\n",
      " 1. 1. 1. 1. 1. 1. 1. 1. 1. 1. 1. 1. 1. 1. 1. 1. 1. 1. 1. 1. 1. 1. 1. 1.\n",
      " 1. 1. 1. 1. 1. 1. 1. 1. 1. 1. 1. 1. 1. 1. 1. 1. 1. 1. 1. 1. 1. 1. 1. 1.\n",
      " 1. 1. 1. 1. 1. 1. 1. 1. 1. 1. 1. 1. 1. 1. 1. 1. 1. 1. 1. 1. 1. 1. 1. 1.\n",
      " 1. 1. 1. 1. 1. 1. 1. 1. 1. 1. 1. 1. 1. 1. 1. 1. 1. 1. 1. 1. 1. 1. 1. 1.\n",
      " 1. 1. 1. 1. 1. 1. 1. 1. 1. 1. 1. 1. 1. 1. 1. 1. 1. 1. 1. 1. 1. 1. 1. 1.\n",
      " 1. 1. 1. 1. 1. 1. 1. 1. 1. 1. 1. 1. 1. 1. 1. 1. 1. 1. 1. 1. 1. 1. 1. 1.\n",
      " 1. 1. 1. 1. 1. 1. 1. 1. 1. 1. 1. 1. 1. 1. 1. 1. 1. 1. 1. 1. 1. 1. 1. 1.\n",
      " 1. 1. 1. 1. 1. 1. 1. 1. 1. 1. 1. 1. 1. 1. 1. 1. 1. 1. 1. 1. 1. 1. 1. 1.\n",
      " 1. 1. 1. 1. 1. 1. 1. 1. 1. 1. 1. 1. 1. 1. 1. 1. 1. 1. 1. 1. 1. 1. 1. 1.\n",
      " 1. 1. 1. 1. 1. 1. 1. 1. 1. 1. 1. 1. 1. 1. 1. 1. 1. 1. 1. 1. 1. 1. 1. 1.\n",
      " 1. 1. 1. 1. 1. 1. 1. 1. 1. 1. 1. 1. 1. 1. 1. 1. 1. 1. 1. 1. 1. 1. 1. 1.\n",
      " 1. 1. 1. 1. 1. 1. 1. 1. 1. 1. 1. 1. 1. 1. 1. 1. 1. 1. 1. 1. 1. 1. 1. 1.\n",
      " 1. 1. 1. 1. 1. 1. 1. 1. 1. 1. 1. 1. 1. 1. 1. 1. 1. 1. 1. 1. 1. 1. 1. 1.\n",
      " 1. 1. 1. 1. 1. 1. 1. 1. 1. 1. 1. 1. 1. 1. 1. 1. 1. 1. 1. 1. 1. 1. 1. 1.\n",
      " 1. 1. 1. 1. 1. 1. 1. 1. 1. 1. 1. 1. 1. 1. 1. 1. 1. 1. 1. 1. 1. 1. 1. 1.\n",
      " 1. 1. 1. 1. 1. 1. 1. 1. 1. 1. 1. 1. 1. 1. 1. 1. 1. 1. 1. 1. 1. 1. 1. 1.\n",
      " 1. 1. 1. 1. 1. 1. 1. 1. 1. 1. 1. 1. 1. 1. 1. 1. 1.]\n"
     ]
    }
   ],
   "source": [
    "clf = SVM()\n",
    "clf.fit(X,y)\n",
    "pred = clf.predict(X)\n",
    "print(pred)"
   ]
  },
  {
   "cell_type": "code",
   "execution_count": null,
   "id": "79f0a453",
   "metadata": {},
   "outputs": [],
   "source": []
  },
  {
   "cell_type": "code",
   "execution_count": null,
   "id": "ed2cb064",
   "metadata": {},
   "outputs": [],
   "source": []
  }
 ],
 "metadata": {
  "kernelspec": {
   "display_name": "Python 3 (ipykernel)",
   "language": "python",
   "name": "python3"
  },
  "language_info": {
   "codemirror_mode": {
    "name": "ipython",
    "version": 3
   },
   "file_extension": ".py",
   "mimetype": "text/x-python",
   "name": "python",
   "nbconvert_exporter": "python",
   "pygments_lexer": "ipython3",
   "version": "3.8.10"
  }
 },
 "nbformat": 4,
 "nbformat_minor": 5
}
